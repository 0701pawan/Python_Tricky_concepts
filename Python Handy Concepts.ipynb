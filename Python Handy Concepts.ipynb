{
 "cells": [
  {
   "cell_type": "markdown",
   "metadata": {},
   "source": [
    "#### This Notebook is insipired by Linkedin Learning Course \"Python Essentials\" by Bill Weinman.\n",
    "\n",
    "Please feel free to add other concepts of python which are basic yet tricky for everyone's benifit!\n",
    "\n",
    "Happy Learning!"
   ]
  },
  {
   "cell_type": "code",
   "execution_count": 1,
   "metadata": {},
   "outputs": [
    {
     "name": "stdout",
     "output_type": "stream",
     "text": [
      "win32\n",
      "C:\\Users\\vaibhav kejriwal\\Desktop\\Python Notebook\n",
      "3.6.4 |Anaconda custom (64-bit)| (default, Jan 16 2018, 10:22:32) [MSC v.1900 64 bit (AMD64)]\n"
     ]
    }
   ],
   "source": [
    "# to know the version of python being used\n",
    "\n",
    "import sys\n",
    "import os\n",
    "v=sys.platform  #to know the platform on which we are working\n",
    "print(v)\n",
    "y=os.getcwd() # to know the current working directory\n",
    "print(y)\n",
    "print(sys.version) # to know the version being used"
   ]
  },
  {
   "cell_type": "code",
   "execution_count": 2,
   "metadata": {},
   "outputs": [
    {
     "name": "stdout",
     "output_type": "stream",
     "text": [
      "the value is 8\n",
      "the value of x is 8\n",
      "hello there! vaibhav and shyam\n",
      "hello there! shyam and vaibhav\n",
      "      175\n",
      "000000175\n",
      "175     \n",
      "175000000\n",
      "22.333\n",
      "the numbers are 20 and 25\n"
     ]
    }
   ],
   "source": [
    "#formating using format method\n",
    "\n",
    "# format is actually a string function which is extensively used with print\n",
    "\n",
    "x=8\n",
    "print(\"the value is {}\".format(x))\n",
    "p=\"the value of x is {}\".format(x)      #to show it is actually is String function\n",
    "print(p)\n",
    "\n",
    "a=\"vaibhav\"\n",
    "b=\"shyam\"\n",
    "y = \"hello there! {} and {}\".format(a,b) \n",
    "print(y)\n",
    "\n",
    "# the format parameter were printed secquencily in above case, if we want to change the positioning of parameters,then:\n",
    "\n",
    "y = \"hello there! {1} and {0}\".format(a,b)\n",
    "print(y)\n",
    "\n",
    "#To do numeric formating, something like this can be done\n",
    "\n",
    "x= 175\n",
    "print(\"{:>9}\".format(x))  # the number will be adjusted in 9 spaces from left\n",
    "print(\"{:>09}\".format(x)) # the number will be adjusted in 9 spaces, with remaining places as 0 from left\n",
    "print(\"{:<8}\".format(x))  # the number will be adjusted in 8 spaces from right\n",
    "print(\"{:<09}\".format(x)) # the number will be adjusted in 9 spaces, with remaining places as # from right\n",
    "\n",
    "x=67/3\n",
    "print(\"{:.3f}\".format(x)) # it will print 3 digits after decimal \n",
    "\n",
    "\n",
    "# F-Strings in python (above 3.6) are almost similar to the format functions discussed above\n",
    "\n",
    "a=20\n",
    "b=25\n",
    "x=f'the numbers are {a} and {b}' #fstrings starts with 'f'\n",
    "print(x)"
   ]
  },
  {
   "cell_type": "code",
   "execution_count": 3,
   "metadata": {},
   "outputs": [
    {
     "name": "stdout",
     "output_type": "stream",
     "text": [
      "True\n",
      "False\n",
      "1->0\n",
      "0->0\n",
      "2->1\n",
      "4->5\n",
      "5->6\n",
      "0:dog\n",
      "1:rabbit\n",
      "2:elephant\n"
     ]
    }
   ],
   "source": [
    "#some more list functions\n",
    "\n",
    "x=[1,0,2,4,5]\n",
    "y=[0,0,1,5,6,8]\n",
    "\n",
    "z=any(x) # any function checks if any value in the list is true or not\n",
    "print(z)\n",
    "\n",
    "p = all(x) #all function checks if all the value in the list is true or not\n",
    "print(p)\n",
    "\n",
    "r = zip(x,y) # it forms an iterator with two value in each items\n",
    "for b,c in r:\n",
    "    print(f\"{b}->{c}\") #observe 8 is not printed as there was no corrosponding x element for it.\n",
    "    \n",
    "#enumerate function\n",
    "\n",
    "x=('dog','rabbit','elephant')\n",
    "for i,v in enumerate(x):\n",
    "    print(f\"{i}:{v}\")"
   ]
  },
  {
   "cell_type": "code",
   "execution_count": 4,
   "metadata": {},
   "outputs": [
    {
     "name": "stdout",
     "output_type": "stream",
     "text": [
      "76\n"
     ]
    }
   ],
   "source": [
    "# scope of a block in python, \n",
    "# if value of x is made greater than y and kernal varibles are cleared, this piece of code will give error.\n",
    "\n",
    "x = 68\n",
    "y = 78\n",
    "if x < y:\n",
    "    z=76\n",
    "print(z)"
   ]
  },
  {
   "cell_type": "code",
   "execution_count": 5,
   "metadata": {},
   "outputs": [
    {
     "name": "stdout",
     "output_type": "stream",
     "text": [
      "To show it works,x=5\n"
     ]
    }
   ],
   "source": [
    "#self is not a keyword, any word can be used at place of self, but self is recommended as more readable.\n",
    "\n",
    "class myclass:\n",
    "   \n",
    "    def __init__(demo):\n",
    "        demo.x=5\n",
    "        \n",
    "    def run(demo):\n",
    "        print(f\"To show it works,x={demo.x}\")\n",
    "        \n",
    "r=myclass()\n",
    "r.run()"
   ]
  },
  {
   "cell_type": "code",
   "execution_count": 6,
   "metadata": {},
   "outputs": [
    {
     "name": "stdout",
     "output_type": "stream",
     "text": [
      "type of V is <class 'NoneType'>\n",
      "type of W is <class 'bool'>\n",
      "type of x is <class 'int'>\n",
      "type of y is <class 'float'>\n",
      "type of z is<class 'str'>\n"
     ]
    }
   ],
   "source": [
    "#type keyword tells us the class type of a variable (In python, everything is an Object)\n",
    "\n",
    "y=0.6\n",
    "x=3 \n",
    "z=\"hello\"\n",
    "w=True\n",
    "v = None\n",
    "\n",
    "print(\"type of V is {}\\ntype of W is {}\\ntype of x is {}\\ntype of y is {}\\ntype of z is{}\".format(type(v),type(w),type(x),type(y),type(z)))"
   ]
  },
  {
   "cell_type": "code",
   "execution_count": 7,
   "metadata": {},
   "outputs": [
    {
     "name": "stdout",
     "output_type": "stream",
     "text": [
      "hey there! \n",
      "it is to show multi-line strings in python\n"
     ]
    }
   ],
   "source": [
    "#To create a multi line strings ''' ''' is used, here is the example, uncomment the below lines and run to see the error.\n",
    "\n",
    "#demo1=\"dfghjk\n",
    "#fghj\"\n",
    "#print(demo1)\n",
    "\n",
    "demo='''hey there! \n",
    "it is to show multi-line strings in python'''\n",
    "print(demo)\n"
   ]
  },
  {
   "cell_type": "code",
   "execution_count": 8,
   "metadata": {},
   "outputs": [
    {
     "name": "stdout",
     "output_type": "stream",
     "text": [
      "hello\n"
     ]
    }
   ],
   "source": [
    "# ''' ''' is also used for writing multi-line comments in python, here is the example \n",
    "\n",
    "'''kjhgfdstyuilkjb'''\n",
    "print(\"hello\")"
   ]
  },
  {
   "cell_type": "code",
   "execution_count": 9,
   "metadata": {},
   "outputs": [
    {
     "name": "stdout",
     "output_type": "stream",
     "text": [
      "1.3333333333333333\n",
      "1\n"
     ]
    }
   ],
   "source": [
    "#integer Division in python\n",
    "\n",
    "a = 4/3  #normal-division\n",
    "print(a)\n",
    "b= 4//3  #integer-division\n",
    "print(b)"
   ]
  },
  {
   "cell_type": "code",
   "execution_count": 10,
   "metadata": {},
   "outputs": [
    {
     "name": "stdout",
     "output_type": "stream",
     "text": [
      "5.551115123125783e-17\n",
      "0.0\n"
     ]
    },
    {
     "data": {
      "text/plain": [
       "decimal.Decimal"
      ]
     },
     "execution_count": 10,
     "metadata": {},
     "output_type": "execute_result"
    }
   ],
   "source": [
    "#floating point number calculations may give very uncomfortable results, for Example\n",
    "\n",
    "x = .1 + .1 + .1 - 0.3\n",
    "print(x) # we can see the result is not zero as we expected it to be, to solve such issue decimal module is used\n",
    "\n",
    "from decimal import *\n",
    "\n",
    "a = Decimal('.1')\n",
    "b = Decimal('0.3')\n",
    "x = a + a + a - b\n",
    "print(x) # and here one gets the desired result. Lets check the type of x now\n",
    "\n",
    "type(x) #yes, its not standerd data type but the object of one of decimal module in Python."
   ]
  },
  {
   "cell_type": "code",
   "execution_count": 11,
   "metadata": {},
   "outputs": [
    {
     "name": "stdout",
     "output_type": "stream",
     "text": [
      "key:1,value:vaibhav\n",
      "key:2,value:hello\n",
      "key:3,value:Rahul\n"
     ]
    }
   ],
   "source": [
    "#iterating through a dictionary \n",
    "\n",
    "d={'1':'vaibhav','2':'hello','3':'Rahul'}\n",
    "for i,j in d.items():\n",
    "    print(\"key:{},value:{}\".format(i,j))"
   ]
  },
  {
   "cell_type": "code",
   "execution_count": 12,
   "metadata": {},
   "outputs": [
    {
     "name": "stdout",
     "output_type": "stream",
     "text": [
      "2519472777992\n",
      "2519472853320\n",
      "1409248736\n",
      "1409248736\n",
      "x and y are not same\n",
      "x[0] and y[0] are same\n",
      "5 is present\n"
     ]
    }
   ],
   "source": [
    "#For each object, A unique id is generated, Even if the content of the objects are same, their id will be different\n",
    "\n",
    "x=[1,2,3,4,5]\n",
    "y=[1,2,3,4,5]\n",
    "print(id(x))\n",
    "print(id(y))\n",
    "\n",
    "#the id of both the tuple is different, but if check the id of literal '1' in both the tuples, this will be same\n",
    "\n",
    "print(id(x[0]))\n",
    "print(id(y[0]))\n",
    "\n",
    "# this is because for the same literal, 2 different ids is not generated\n",
    "\n",
    "# is operator checks whether the id of 2 objects are same or different, Similarly is not operator checks the opposite\n",
    "\n",
    "if x is y:\n",
    "    print(\"x and y are same\")\n",
    "else:\n",
    "    print(\"x and y are not same\")\n",
    "\n",
    "if x[0] is y[0]:\n",
    "    print(\"x[0] and y[0] are same\")\n",
    "else:\n",
    "    print(\"x[0] and y[0] are not same\")\n",
    "    \n",
    "#there is a membership operator \"in\" which checks whether a particular member exists in a collection\n",
    "\n",
    "if 5 in x:\n",
    "    print(\"5 is present\")\n",
    "else:\n",
    "    print(\"5 is not present\")"
   ]
  },
  {
   "cell_type": "code",
   "execution_count": 13,
   "metadata": {},
   "outputs": [
    {
     "name": "stdout",
     "output_type": "stream",
     "text": [
      "it is a list\n"
     ]
    }
   ],
   "source": [
    "#isinstance function: it checks wether a particular object is of given type or not\n",
    "\n",
    "x = [1,2,3,4]\n",
    "\n",
    "if isinstance(x,list):\n",
    "    print(\"it is a list\")\n",
    "else:\n",
    "    print(\"it is not a list\")"
   ]
  },
  {
   "cell_type": "code",
   "execution_count": 14,
   "metadata": {},
   "outputs": [
    {
     "name": "stdout",
     "output_type": "stream",
     "text": [
      "4\n",
      "0.9583004252253812\n",
      "38\n",
      "[[4, 5], 9, 4, 7, 'kartik', 5, 5.5]\n"
     ]
    }
   ],
   "source": [
    "#random function - some frequent use cases\n",
    "\n",
    "import random\n",
    "a = [5,4,7,9,\"kartik\",5.5,[4,5]]\n",
    "\n",
    "c= random.choice(a) #this function will choose a random element from above list\n",
    "print(c)\n",
    "\n",
    "b = random.random() #gives a random value between 0 to 1\n",
    "print(b)\n",
    "\n",
    "d = random.randint(1,58) #gives a random integer between the two parameters given\n",
    "print(d)\n",
    "\n",
    "random.shuffle(a)  #it shuffles the order of element in the list \n",
    "print(a)"
   ]
  },
  {
   "cell_type": "code",
   "execution_count": 15,
   "metadata": {},
   "outputs": [
    {
     "name": "stdout",
     "output_type": "stream",
     "text": [
      "6\n",
      "15\n"
     ]
    }
   ],
   "source": [
    "#Ternory operator implementaion (Works above python 2.6)\n",
    "\n",
    "x= True\n",
    "\n",
    "y= 6 if x else 9\n",
    "\n",
    "print(y)\n",
    "\n",
    "x = False\n",
    "\n",
    "y=20 if x else 15\n",
    "\n",
    "print(y)"
   ]
  },
  {
   "cell_type": "code",
   "execution_count": 16,
   "metadata": {},
   "outputs": [
    {
     "name": "stdout",
     "output_type": "stream",
     "text": [
      "x=106,y=24,z=10\n",
      "x=0152, y=0018, z=0010\n"
     ]
    }
   ],
   "source": [
    "#litrals notations in different forms, i.e. Binary, Octal or Hexadecimal\n",
    "\n",
    "x = 0x6a   #when any literal starts with 0x, it is of hexadecimal form \n",
    "y = 0o30   #when any literal starts with 0o, it is of Octal form\n",
    "z= 0b1010  #when any literal starts with 0b, it is of binary form\n",
    "\n",
    "print(f\"x={x},y={y},z={z}\")  #by default, numbers are printed in their base 10 form\n",
    "\n",
    "print(f\"x={x:04o}, y={y:04x}, z={z:04}\") #here we are printing x in octal form and y in hexadecimal form and z in decimal\n",
    "\n",
    "#in the above print, \"04\" means number is to be 4 places long and places should be filled by 0\n"
   ]
  },
  {
   "cell_type": "code",
   "execution_count": 17,
   "metadata": {},
   "outputs": [
    {
     "name": "stdout",
     "output_type": "stream",
     "text": [
      "84\n",
      "5\n",
      "4\n",
      "85\n",
      "81\n",
      "2688\n",
      "2\n"
     ]
    }
   ],
   "source": [
    "#Bitwise Operator in Python implementations\n",
    "\n",
    "# And(&), or(|), Xor(^) , left shift(<<) and right shift(>>) are the bitwise operators in python \n",
    "\n",
    "x = 5\n",
    "y = 84\n",
    "\n",
    "z = x and y #this \"and\" is the relational operator and different from '&'. Observe the output.\n",
    "\n",
    "print(z)    # if both x and y are non zero, the value at rightmost side will be assigned to z, if any value is 0, z will be 0\n",
    "\n",
    "z = x or y  #this \"or\" is the relational operator and different from '|'. Observe the output.\n",
    "\n",
    "print(z)   # if both x and y are non zero, the value at leftmost side will be assigned to z, if x is zero, z will be same as y.\n",
    "\n",
    "z = x&y\n",
    "print(z)\n",
    "\n",
    "z = x|y\n",
    "print(z)\n",
    "\n",
    "z = x^y\n",
    "print(z)\n",
    "\n",
    "z = y<<x\n",
    "print(z)\n",
    "\n",
    "z = y>>x\n",
    "print(z)"
   ]
  },
  {
   "cell_type": "code",
   "execution_count": 18,
   "metadata": {},
   "outputs": [
    {
     "name": "stdout",
     "output_type": "stream",
     "text": [
      "iteration:0\n",
      "iteration:1\n",
      "iteration:3\n",
      "iteration:4\n",
      "this statement runs because loop did not had any break used\n"
     ]
    }
   ],
   "source": [
    "#using else with loops, else works with for/while loop in python when the loop condition is neither not valid anymore\n",
    "#else block does not work if the loop is terminated because of break.\n",
    "\n",
    "for i in range(0,5):\n",
    "    if i==2:\n",
    "        continue\n",
    "    else:\n",
    "        print(f\"iteration:{i}\")\n",
    "else:\n",
    "    print(\"this statement runs because loop did not had any break used\")"
   ]
  },
  {
   "cell_type": "code",
   "execution_count": 19,
   "metadata": {},
   "outputs": [
    {
     "name": "stdout",
     "output_type": "stream",
     "text": [
      "my function will return None!\n",
      "None\n"
     ]
    }
   ],
   "source": [
    "#in python, all function returns something. If nothing is explicitly being returned by Program, it returns None\n",
    "\n",
    "def demo():\n",
    "    print(\"my function will return None!\")\n",
    "x=demo()\n",
    "print(x)"
   ]
  },
  {
   "cell_type": "code",
   "execution_count": 20,
   "metadata": {},
   "outputs": [
    {
     "name": "stdout",
     "output_type": "stream",
     "text": [
      "Passing 5 to the function demo\n",
      "the passed value 5 is changed to:3\n",
      "the original value remains the same as: 5\n"
     ]
    }
   ],
   "source": [
    "# passing mutable and immutable values in a function\n",
    "\n",
    "def demo(a):\n",
    "    a=3\n",
    "    print(f\"the passed value 5 is changed to:{a}\")\n",
    "    \n",
    "x= 5\n",
    "print(f\"Passing 5 to the function demo\")\n",
    "demo(x)\n",
    "print(f\"the original value remains the same as: {x}\")\n",
    "\n",
    "#here the original value did not change because integers are immutable in python. (Similar to call by Value)\n"
   ]
  },
  {
   "cell_type": "code",
   "execution_count": 21,
   "metadata": {},
   "outputs": [
    {
     "name": "stdout",
     "output_type": "stream",
     "text": [
      "passing the list [1] to the function\n",
      "the passed list value changed to: [2]\n",
      "the original list changed to:[2]\n"
     ]
    }
   ],
   "source": [
    "def demo(a):\n",
    "    a[0]=2\n",
    "    print(f\"the passed list value changed to: {a}\")\n",
    "a=[1]\n",
    "print(f\"passing the list {a} to the function\")\n",
    "demo(a)\n",
    "print(f\"the original list changed to:{a}\")\n",
    "\n",
    "#here the value changed because list is mutable and mutable values change in function call. (Similar to call by Reference)"
   ]
  },
  {
   "cell_type": "code",
   "execution_count": 22,
   "metadata": {},
   "outputs": [
    {
     "name": "stdout",
     "output_type": "stream",
     "text": [
      "the arguments passed are: 2\n",
      "the arguments passed are: 3\n",
      "the arguments passed are: 4\n",
      "the arguments passed are: hello\n",
      "the arguments passed are: many parameters\n",
      "the arguments passed are: (1, 2, 3)\n",
      "the arguments passed are: 1\n",
      "the arguments passed are: 2\n",
      "the arguments passed are: 3\n"
     ]
    }
   ],
   "source": [
    "#passing undefined number of arguments in function:\n",
    "\n",
    "def demo(*args): # varible name after * tells us the number of argument for this may differ and are stored in a list\n",
    "    for i in args:\n",
    "        print(f\"the arguments passed are: {i}\")\n",
    "    if len(args)==0:\n",
    "        print(\"no argument passed!\")\n",
    "demo(2,3,4,\"hello\",\"many parameters\")\n",
    "\n",
    "#we can also pass a tuple as argument to above function by using *before the name of tuple in function call\n",
    "\n",
    "a = (1,2,3)\n",
    "demo(a) # sends the tuple as a whole as singke argument\n",
    "demo(*a) # sends individual elements of tuple as different parameters"
   ]
  },
  {
   "cell_type": "code",
   "execution_count": 23,
   "metadata": {},
   "outputs": [
    {
     "name": "stdout",
     "output_type": "stream",
     "text": [
      "the dictionary form arguments: key = vaibhav, value = great\n",
      "the dictionary form arguments: key = tanay, value = good\n",
      "the dictionary form arguments: key = ashish, value = awesome\n"
     ]
    }
   ],
   "source": [
    "#passing dictionary as arguments in function\n",
    "\n",
    "def demo(**kargs):  #here we use double * then the name of variable\n",
    "    for i in kargs:\n",
    "        print(f\"the dictionary form arguments: key = {i}, value = {kargs[i]}\")\n",
    "demo(vaibhav=\"great\",tanay =\"good\",ashish =\"awesome\")"
   ]
  },
  {
   "cell_type": "code",
   "execution_count": 24,
   "metadata": {},
   "outputs": [
    {
     "name": "stdout",
     "output_type": "stream",
     "text": [
      "0 2 4 6 8 10 12 14 16 18 20 22 24 "
     ]
    }
   ],
   "source": [
    "#generator Function in python is used to create a series of values, here is an example\n",
    "\n",
    "def myrange(*args):  # a function which will work as range function in python and will be inclusive\n",
    "    nargs = len(args)\n",
    "    start = 0\n",
    "    step = 1\n",
    "    \n",
    "    if nargs<1:\n",
    "        print(\"atleast one argument required,review the arguments\")\n",
    "        return\n",
    "    if nargs>3:\n",
    "        print(\"atmost 3 argument required, review the arguments\")\n",
    "        return\n",
    "    if nargs ==1:\n",
    "        stop = args[0]\n",
    "    if nargs == 2:\n",
    "        start = args[0]\n",
    "        stop = args[1]\n",
    "    if nargs ==3:\n",
    "        start = args[0]\n",
    "        stop = args[1]\n",
    "        step = args[2]\n",
    "        \n",
    "    i=start\n",
    "    while i<=stop:\n",
    "        yield i    # it is a keyword like return used with generator functions, it returns a value and keeps on updating\n",
    "        i = i+step\n",
    "        \n",
    "for i in myrange(0,25,2):  # calling the function\n",
    "    print(i,end=\" \")"
   ]
  },
  {
   "cell_type": "code",
   "execution_count": 25,
   "metadata": {},
   "outputs": [
    {
     "name": "stdout",
     "output_type": "stream",
     "text": [
      "inside function A\n",
      "inside function A\n",
      "inside function B\n"
     ]
    }
   ],
   "source": [
    "#One function name also be assined to other variable, which will then act as reference for that person\n",
    "\n",
    "def a():\n",
    "    print(\"inside function A\")\n",
    "    def b():\n",
    "        print(\"inside function B\")\n",
    "    return b\n",
    "        \n",
    "b=a #this statement is valid, function can now be called using both the \n",
    "b() # calling the function from its alies name\n",
    "\n",
    "#to call the function inside a we need to do this:\n",
    "\n",
    "c = a()\n",
    "c()\n",
    "\n",
    "\n"
   ]
  },
  {
   "cell_type": "code",
   "execution_count": 26,
   "metadata": {},
   "outputs": [
    {
     "name": "stdout",
     "output_type": "stream",
     "text": [
      "Inside f2 first\n",
      "this is f3 being called\n",
      "exiting from f2 now\n"
     ]
    }
   ],
   "source": [
    "#clear example of a wrapper function\n",
    "\n",
    "def f1(f):\n",
    "    def f2():\n",
    "        print(\"Inside f2 first\")\n",
    "        f()\n",
    "        print(\"exiting from f2 now\")\n",
    "    return f2\n",
    "\n",
    "def f3():\n",
    "    print(\"this is f3 being called\")\n",
    "\n",
    "f3 = f1(f3)\n",
    "f3()\n",
    "\n",
    "# we can observe in the above example that now f3() cant be called directly and it will be wrapped with f2 "
   ]
  },
  {
   "cell_type": "code",
   "execution_count": 27,
   "metadata": {},
   "outputs": [
    {
     "name": "stdout",
     "output_type": "stream",
     "text": [
      "Inside f2 first\n",
      "this is f3 being called\n",
      "exiting from f2 now\n"
     ]
    }
   ],
   "source": [
    "#decorators functions, are used like wrapper functions where one function is inside another functions and not directly assesible\n",
    "#decorators are generally used as wrapper functions\n",
    "# '@' is used as sign for decorator, using this decorator, the above example can be sortend as\n",
    "\n",
    "def f1(f):\n",
    "    def f2():\n",
    "        print(\"Inside f2 first\")\n",
    "        f()\n",
    "        print(\"exiting from f2 now\")\n",
    "    return f2\n",
    "@f1\n",
    "def f3():\n",
    "    print(\"this is f3 being called\")\n",
    "f3()\n",
    "\n",
    "#the function written just below '@f1' will be wrapped inside the function in f1 and wont be directly accessible"
   ]
  },
  {
   "cell_type": "code",
   "execution_count": 28,
   "metadata": {},
   "outputs": [
    {
     "name": "stdout",
     "output_type": "stream",
     "text": [
      "['a', 'b', 'c', 'd']\n",
      "a,b,c,d\n"
     ]
    }
   ],
   "source": [
    "#Join with list\n",
    "\n",
    "x = ['a','b','c','d']\n",
    "print(x)\n",
    "print(','.join(x))  #to print all the element to list in a single string seperated by ,"
   ]
  },
  {
   "cell_type": "code",
   "execution_count": 29,
   "metadata": {},
   "outputs": [
    {
     "name": "stdout",
     "output_type": "stream",
     "text": [
      "hello:2\n",
      "rahul:3\n",
      "rakesh:the\n",
      "dict_keys(['hello', 'rahul', 'rakesh'])\n",
      "dict_values([2, 3, 'the'])\n",
      "2\n",
      "rahul\n",
      "None\n"
     ]
    }
   ],
   "source": [
    "#Rather than creating dictionary with {}, which is not very readable, Another way is using dict keyword:\n",
    "\n",
    "x = dict(hello=2,rahul= 3,rakesh='the' )\n",
    "for i in x:\n",
    "    print(f\"{i}:{x[i]}\")\n",
    "    \n",
    "#to get all the keys:\n",
    "y=x.keys()\n",
    "print(y)\n",
    "\n",
    "#to get all the values:\n",
    "y=x.values()\n",
    "print(y)\n",
    "\n",
    "#to get the value from a key\n",
    "key = 'hello'\n",
    "print(x[key])\n",
    "\n",
    "#to get the key from a value\n",
    "value = 3\n",
    "for i,j in x.items():\n",
    "    if j == value:\n",
    "        print(i)\n",
    "        \n",
    "#if we try to access value directly from a key which doesn't exits it will give error.\n",
    "#if same is done using get method, it will return None\n",
    "\n",
    "y = x.get('vaib')\n",
    "print(y)"
   ]
  },
  {
   "cell_type": "code",
   "execution_count": 30,
   "metadata": {},
   "outputs": [
    {
     "name": "stdout",
     "output_type": "stream",
     "text": [
      "the elements in set x are: {'m', 'n', 'a', 'r', ' ', 'b', 'D', 't', 's', 'i', 'd', 'v'}\n",
      "the elements in set y are: {'k', 'S', 'h', 'n', 'a', 'r', 'e', ' ', 't', 's', 'i', 'c'}\n",
      "{'m', 'b', 'D', 'd', 'v'}\n",
      "{'k', 'S', 'h', 'e', 'c'}\n",
      "{'a', 's', 'd', 'k', 'm', 'S', 'h', 'n', 'e', 'r', ' ', 'b', 'D', 't', 'i', 'c', 'v'}\n",
      "{'n', 'a', 'r', 't', ' ', 's', 'i'}\n"
     ]
    }
   ],
   "source": [
    "#sets are another type of datasets which do not allow duplicate values and do not follow any specific indexing of elements\n",
    "\n",
    "y = set(\"Sachin is a cricketer\")\n",
    "x = set(\"Dravid is a batsman\")\n",
    "print(f\"the elements in set x are: {x}\")\n",
    "print(f\"the elements in set y are: {y}\") #everytime you clear the kernal and run these again, it will give different output\n",
    "\n",
    "print(x-y) #elements which are in x but not y\n",
    "print(y-x) #elements which are in y but not x\n",
    "print(x | y) # all unique elements (like union)\n",
    "print(x & y) # all common elements (like intersection)\n",
    "\n"
   ]
  },
  {
   "cell_type": "code",
   "execution_count": 31,
   "metadata": {},
   "outputs": [
    {
     "name": "stdout",
     "output_type": "stream",
     "text": [
      "values initialised\n",
      "the values are x=4, y=5, z=6\n"
     ]
    },
    {
     "ename": "AttributeError",
     "evalue": "'demo' object has no attribute '__y'",
     "output_type": "error",
     "traceback": [
      "\u001b[1;31m---------------------------------------------------------------------------\u001b[0m",
      "\u001b[1;31mAttributeError\u001b[0m                            Traceback (most recent call last)",
      "\u001b[1;32m<ipython-input-31-c1c10fd5036b>\u001b[0m in \u001b[0;36m<module>\u001b[1;34m()\u001b[0m\n\u001b[0;32m     18\u001b[0m \u001b[0mprint\u001b[0m\u001b[1;33m(\u001b[0m\u001b[1;34m\"the values are x={}, y={}, z={}\"\u001b[0m\u001b[1;33m.\u001b[0m\u001b[0mformat\u001b[0m\u001b[1;33m(\u001b[0m\u001b[0mval\u001b[0m\u001b[1;33m.\u001b[0m\u001b[0mvalue_x\u001b[0m\u001b[1;33m(\u001b[0m\u001b[1;33m)\u001b[0m\u001b[1;33m,\u001b[0m\u001b[0mval\u001b[0m\u001b[1;33m.\u001b[0m\u001b[0mvalue_y\u001b[0m\u001b[1;33m(\u001b[0m\u001b[1;33m)\u001b[0m\u001b[1;33m,\u001b[0m\u001b[0mval\u001b[0m\u001b[1;33m.\u001b[0m\u001b[0mvalue_z\u001b[0m\u001b[1;33m(\u001b[0m\u001b[1;33m)\u001b[0m\u001b[1;33m)\u001b[0m\u001b[1;33m)\u001b[0m\u001b[1;33m\u001b[0m\u001b[0m\n\u001b[0;32m     19\u001b[0m \u001b[1;33m\u001b[0m\u001b[0m\n\u001b[1;32m---> 20\u001b[1;33m \u001b[0mprint\u001b[0m\u001b[1;33m(\u001b[0m\u001b[0mval\u001b[0m\u001b[1;33m.\u001b[0m\u001b[0m__y\u001b[0m\u001b[1;33m)\u001b[0m  \u001b[1;31m# will throw an error as private variables can not be accessed directly.\u001b[0m\u001b[1;33m\u001b[0m\u001b[0m\n\u001b[0m\u001b[0;32m     21\u001b[0m \u001b[1;33m\u001b[0m\u001b[0m\n",
      "\u001b[1;31mAttributeError\u001b[0m: 'demo' object has no attribute '__y'"
     ]
    }
   ],
   "source": [
    "#defining constructors in Python\n",
    "\n",
    "class demo:\n",
    "    def __init__(self,x,y,z):\n",
    "        self.__x=x\n",
    "        self.__y=y\n",
    "        self.__z=z  #double underscore before a variable signifies that it is private and not directly accessible outside the class\n",
    "        print(\"values initialised\")\n",
    "    \n",
    "    def value_x(self): #setter methods for getting values\n",
    "        return self.__x\n",
    "    def value_y(self):\n",
    "        return self.__y\n",
    "    def value_z(self):\n",
    "        return self.__z\n",
    "    \n",
    "val=demo(4,5,6)\n",
    "print(\"the values are x={}, y={}, z={}\".format(val.value_x(),val.value_y(),val.value_z()))\n",
    "\n",
    "print(val.__y)  # will throw an error as private variables can not be accessed directly.\n",
    "    "
   ]
  },
  {
   "cell_type": "code",
   "execution_count": 32,
   "metadata": {},
   "outputs": [
    {
     "name": "stdout",
     "output_type": "stream",
     "text": [
      "a red color car!\n"
     ]
    }
   ],
   "source": [
    "#the magic method, __str__ in python, it provides string repesentation of the object.\n",
    "\n",
    "class car:\n",
    "    def __init__(self,color):\n",
    "        self.__color=color\n",
    "    def __str__(self):\n",
    "        return (f\"a {self.__color} color car!\")\n",
    "car1 = car(\"red\")\n",
    "print(car1)  # this will call the __str__ method by default\n"
   ]
  },
  {
   "cell_type": "code",
   "execution_count": 33,
   "metadata": {},
   "outputs": [
    {
     "name": "stdout",
     "output_type": "stream",
     "text": [
      "number of wheel in car 2:4\n",
      "number of wheel in car 2:3\n"
     ]
    }
   ],
   "source": [
    "# to demonstrate the difference between class variables and object variables\n",
    "\n",
    "class car:\n",
    "    wheel = 4  # this is a class variable as it does not belong to any object\n",
    "    \n",
    "    def __init__(self,color,price):\n",
    "        self.__color=color\n",
    "        self.__price=price\n",
    "    def val_color(self):\n",
    "        return self.__color\n",
    "    def val_price(self):\n",
    "        return self.__price\n",
    "car1=car(\"blue\",250000)\n",
    "car2=car(\"red\",320000)\n",
    "print(f\"number of wheel in car 2:{car2.wheel}\")\n",
    "car.wheel = 3 #changing the static variable\n",
    "print(f\"number of wheel in car 2:{car2.wheel}\")\n",
    "\n",
    "# Thus changing static varible changes its value for all object"
   ]
  },
  {
   "cell_type": "code",
   "execution_count": 34,
   "metadata": {},
   "outputs": [
    {
     "name": "stdout",
     "output_type": "stream",
     "text": [
      "car,blue,300000,4\n"
     ]
    }
   ],
   "source": [
    "#Inheritance\n",
    "\n",
    "class vehical:\n",
    "    def __init__(self,types,wheel):\n",
    "        self.wheel = wheel\n",
    "        self.types=types\n",
    "class car(vehical): # this is how a class is extended\n",
    "    def __init__(self,color, price):\n",
    "        self.color=color\n",
    "        self.price=price\n",
    "        super().__init__(\"car\",4) # to call the constructor of parent class\n",
    "\n",
    "car1 = car(\"blue\",300000)\n",
    "print(f\"{car1.types},{car1.color},{car1.price},{car1.wheel}\")\n"
   ]
  },
  {
   "cell_type": "code",
   "execution_count": 35,
   "metadata": {},
   "outputs": [
    {
     "name": "stdout",
     "output_type": "stream",
     "text": [
      "there was a value error\n"
     ]
    }
   ],
   "source": [
    "#exception handling in python. It is done via try except block\n",
    "\n",
    "try:   # all block of code to be checked is kept inside try block\n",
    "    x=int(\"vaibhav\")\n",
    "    y=5/0\n",
    "except ValueError: # in except block, we can write the category of error we are expecting to occur\n",
    "    print(\"there was a value error\")\n",
    "except:  # if we are not sure about the category of error it can be left as well\n",
    "    print(\"some unknown error occured\")\n",
    "else:    # if the try block does not have any error then only else block gets executed\n",
    "    print(\"there was no error!\")\n",
    "    \n",
    "#if there are multiple errors in the try block, only the one which occured first will be addressed "
   ]
  },
  {
   "cell_type": "code",
   "execution_count": 36,
   "metadata": {},
   "outputs": [
    {
     "name": "stdout",
     "output_type": "stream",
     "text": [
      "this error was found:(<class 'ZeroDivisionError'>, ZeroDivisionError('division by zero',), <traceback object at 0x0000024A9C531708>)\n"
     ]
    }
   ],
   "source": [
    "# to about various type of errors\n",
    "\n",
    "# in the sys package, function sys.exc_info() tells us about the error present\n",
    "import sys\n",
    "try:\n",
    "    y=9/0\n",
    "except:\n",
    "    print(f\"this error was found:{sys.exc_info()}\")"
   ]
  },
  {
   "cell_type": "code",
   "execution_count": 37,
   "metadata": {},
   "outputs": [
    {
     "name": "stdout",
     "output_type": "stream",
     "text": [
      "Enter age in range 5-45 only: 3\n",
      "input error: age should be greater than 5\n"
     ]
    }
   ],
   "source": [
    "#Defining your own exceptions\n",
    "\n",
    "y=int(input(\"Enter age in range 5-45 only: \"))\n",
    "try:\n",
    "    if y<5:\n",
    "        raise TypeError(\"age should be greater than 5\") #to raise any specific type of error\n",
    "    if y>45:\n",
    "        raise TypeError(\"age should be less than 45\")\n",
    "except  TypeError as e:\n",
    "    print(f\"input error: {e}\")"
   ]
  },
  {
   "cell_type": "code",
   "execution_count": 38,
   "metadata": {},
   "outputs": [
    {
     "name": "stdout",
     "output_type": "stream",
     "text": [
      "I just Reversed the message as: emoclew\n",
      "HELLO WORLD\n",
      "hello world\n",
      "hEllO wORLD\n",
      "Hello world\n",
      "Hello World\n",
      "hello world\n"
     ]
    }
   ],
   "source": [
    "#diving deep into strings! built in str class can be extented in python\n",
    "#strings are first class objects in Python.\n",
    "\n",
    "class demo(str):  #extending str class \n",
    "    def __init__(self,message):\n",
    "        self.message=message\n",
    "    def __str__(self):\n",
    "        return (f\"I just Reversed the message as: {self.message[::-1]}\")\n",
    "val=demo(\"welcome\")\n",
    "print(val)\n",
    "\n",
    "#various important string methods\n",
    "\n",
    "x=\"HeLLo World\"\n",
    "print(x.upper())  #remember all these methods return new string and do not modify the original one\n",
    "print(x.lower())  # converts everything to lower case\n",
    "print(x.swapcase()) #changes the case of the character\n",
    "print(x.capitalize()) # capitalise just the first letter of the sentance and converts other to lower case\n",
    "print(x.title()) # capitalizes first character of each word and all other to lower case\n",
    "print(x.casefold()) # similar to lower metod but more strict in nature.\n",
    "\n",
    "#for full documentation on string methods visit  https://docs.python.org/3/library/stdtypes.html#string-methods\n"
   ]
  },
  {
   "cell_type": "code",
   "execution_count": 39,
   "metadata": {},
   "outputs": [
    {
     "name": "stdout",
     "output_type": "stream",
     "text": [
      "Here is the value of 2 * 5 = 10 \n",
      "the formated number:3,429,776\n",
      "the number with 3 decimal places:3.667\n",
      "['Here', 'is', 'a', 'demo', 'string', 'which', 'has', 'new', 'lines,', 'spaces', 'commas', 'and', 'everything']\n",
      "['Here', 'is', 'a', 'demo', 'string', '\\nwhich', 'has', 'new', 'lines,', 'spaces', 'commas', 'and', 'everything']\n",
      "Here is a demo string \n",
      "which has new lines, spaces commas and everything\n"
     ]
    }
   ],
   "source": [
    "# formatting of strings \n",
    "\n",
    "#we can also perform airthmetic operation in format method of string\n",
    "\n",
    "print(f\"Here is the value of 2 * 5 = {2*5} \")\n",
    "\n",
    "x = 542 * 452 * 14\n",
    "print(f\"the formated number:{x:,}\") #the number is with commas\n",
    "\n",
    "#to fix a number for limited number of decimal places\n",
    "y=11/3\n",
    "print(f\"the number with 3 decimal places:{y:.3f}\")\n",
    "\n",
    "\n",
    "#spliting and joining of strings\n",
    "\n",
    "x ='''Here is a demo string \n",
    "which has new lines, spaces commas and everything'''\n",
    "\n",
    "y=x.split() #by default, the split method partions on the basis of any whitespace characters\n",
    "print(y)\n",
    "y = x.split(' ') #any specific deliminator can be chosen to spilit by providing the parameter\n",
    "print(y)\n",
    "\n",
    "z = ' '.join(y) #this will join the elements in the list or tuple by the deliminator provided\n",
    "print(z)"
   ]
  },
  {
   "cell_type": "code",
   "execution_count": 40,
   "metadata": {},
   "outputs": [
    {
     "name": "stdout",
     "output_type": "stream",
     "text": [
      "1. Hello\n",
      "2. world.\n",
      "3. It\n",
      "4. is\n",
      "5. Pandemic\n",
      "6. Time\n",
      "content of file1 copied to file2!\n",
      "Image copied successfully!\n"
     ]
    }
   ],
   "source": [
    "#File Input/Output in Python\n",
    "\n",
    "f1 = open('demo.txt','r') #the location path has to be specified of the file, by default files open in read mode\n",
    "for line in f1:\n",
    "    print(line.rstrip())\n",
    "    \n",
    "#If a file in opened in write mode, it clears all the content that file is having previously\n",
    "#if a file is opened in append mode, it will append in existing content of the file\n",
    "\n",
    "\n",
    "\n",
    "#files are classified as text files and Binary files. By default, files are considered as text files\n",
    "\n",
    "f2 = open('demo-copy.txt','wt') #wt or w refers to writing in text mode\n",
    "for line in f1:\n",
    "    print(line.rstrip(),file=f2) # this statement prints each line one by one in file f2\n",
    "f2.close()\n",
    "print(\"content of file1 copied to file2!\")\n",
    "\n",
    "\n",
    "\n",
    "#working with a binary file\n",
    "\n",
    "f1=open('Sketch.png','rb') #rb refers to reading in binary mode\n",
    "f2=open('Sketch-copy.png','wb') #wb refers to writing in binary mode\n",
    "while True:\n",
    "    buffer = f1.read(102400) #this function will read 10240 bytes at a time from the original file\n",
    "    if buffer:     #checks if buffer is empty (everything has been read)\n",
    "        f2.write(buffer)\n",
    "    else:\n",
    "        break\n",
    "f2.close()\n",
    "print(\"Image copied successfully!\")\n",
    "    "
   ]
  },
  {
   "cell_type": "code",
   "execution_count": 41,
   "metadata": {},
   "outputs": [
    {
     "name": "stdout",
     "output_type": "stream",
     "text": [
      "connecting to database\n",
      "creating table\n",
      "Inserting two rows\n",
      "commiting\n",
      "(1, 41, 'vaibhav')\n",
      "(2, 11, 'ayush')\n",
      "closing the database\n"
     ]
    }
   ],
   "source": [
    "#Python Database api\n",
    "\n",
    "import sqlite3\n",
    "print(\"connecting to database\")\n",
    "db=sqlite3.connect('my-data')\n",
    "cur=db.cursor()\n",
    "print(\"creating table\")\n",
    "cur.execute(\"drop table if EXISTS test\")\n",
    "cur.execute('''create table test(id INTEGER PRIMARY KEY, number INTEGER, string TEXT)''')\n",
    "print(\"Inserting two rows\")\n",
    "cur.execute(\"insert into test (number,string) values(41,'vaibhav')\")\n",
    "cur.execute(\"insert into test (number,string) values(11,'ayush')\")\n",
    "print(\"commiting\")\n",
    "db.commit()\n",
    "for rows in cur.execute(\"select * from test\"):\n",
    "    print(rows)\n",
    "print(\"closing the database\")\n",
    "db.close()"
   ]
  }
 ],
 "metadata": {
  "kernelspec": {
   "display_name": "Python 3",
   "language": "python",
   "name": "python3"
  },
  "language_info": {
   "codemirror_mode": {
    "name": "ipython",
    "version": 3
   },
   "file_extension": ".py",
   "mimetype": "text/x-python",
   "name": "python",
   "nbconvert_exporter": "python",
   "pygments_lexer": "ipython3",
   "version": "3.6.4"
  }
 },
 "nbformat": 4,
 "nbformat_minor": 2
}
